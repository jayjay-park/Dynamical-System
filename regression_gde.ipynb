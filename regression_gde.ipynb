{
  "cells": [
    {
      "cell_type": "markdown",
      "metadata": {
        "id": "view-in-github",
        "colab_type": "text"
      },
      "source": [
        "<a href=\"https://colab.research.google.com/github/jayjay-park/Dynamical-System/blob/main/regression_gde.ipynb\" target=\"_parent\"><img src=\"https://colab.research.google.com/assets/colab-badge.svg\" alt=\"Open In Colab\"/></a>"
      ]
    },
    {
      "cell_type": "code",
      "source": [
        "# If you have installed dgl-cuXX package, please uninstall it first.\n",
        "!pip install  dgl -f https://data.dgl.ai/wheels/cu118/repo.html\n",
        "!pip install  dglgo -f https://data.dgl.ai/wheels-test/repo.html"
      ],
      "metadata": {
        "id": "lG2DU2j_txsr"
      },
      "execution_count": null,
      "outputs": []
    },
    {
      "cell_type": "code",
      "source": [
        "!pip install torchdiffeq"
      ],
      "metadata": {
        "id": "9_rXdBUUut1X"
      },
      "execution_count": null,
      "outputs": []
    },
    {
      "cell_type": "code",
      "execution_count": null,
      "metadata": {
        "id": "ejjmIGcTsa_0"
      },
      "outputs": [],
      "source": [
        "import math\n",
        "import numpy as np\n",
        "import scipy.sparse as sp\n",
        "import time\n",
        "import torch\n",
        "import torch.nn as nn\n",
        "import torch.nn.functional as F\n",
        "import matplotlib.pyplot as plt\n",
        "from torch.nn.parameter import Parameter\n",
        "from torch.nn.modules.module import Module"
      ]
    },
    {
      "cell_type": "code",
      "execution_count": null,
      "metadata": {
        "colab": {
          "base_uri": "https://localhost:8080/"
        },
        "id": "hST9rsmEsa_2",
        "outputId": "ea230dc1-173d-46e3-b1ad-68a18741da13"
      },
      "outputs": [
        {
          "output_type": "stream",
          "name": "stderr",
          "text": [
            "DGL backend not selected or invalid.  Assuming PyTorch for now.\n"
          ]
        },
        {
          "output_type": "stream",
          "name": "stdout",
          "text": [
            "Setting the default backend to \"pytorch\". You can change it in the ~/.dgl/config.json file or export the DGLBACKEND environment variable.  Valid options are: pytorch, mxnet, tensorflow (all lowercase)\n"
          ]
        }
      ],
      "source": [
        "import dgl\n",
        "import dgl.data\n",
        "import networkx as nx"
      ]
    },
    {
      "cell_type": "markdown",
      "source": [
        "# Helper Function"
      ],
      "metadata": {
        "id": "lKeWJHqYEZ42"
      }
    },
    {
      "cell_type": "code",
      "source": [
        "from typing import Callable\n",
        "import dgl.function as fn\n",
        "\n",
        "class GCNLayer(nn.Module):\n",
        "    def __init__(self, g:dgl.DGLGraph, in_feats:int, out_feats:int, activation:Callable[[torch.Tensor], torch.Tensor],\n",
        "                 dropout:int, bias:bool=True):\n",
        "        super().__init__()\n",
        "        self.g = g\n",
        "        self.weight = nn.Parameter(torch.Tensor(in_feats, out_feats))\n",
        "        if bias:\n",
        "            self.bias = nn.Parameter(torch.Tensor(out_feats))\n",
        "        else:\n",
        "            self.bias = None\n",
        "        self.activation = activation\n",
        "        if dropout:\n",
        "            self.dropout = nn.Dropout(p=dropout)\n",
        "        else:\n",
        "            self.dropout = 0.\n",
        "        self.reset_parameters()\n",
        "\n",
        "    def reset_parameters(self):\n",
        "        stdv = 1. / math.sqrt(self.weight.size(1))\n",
        "        self.weight.data.uniform_(-stdv, stdv)\n",
        "        if self.bias is not None:\n",
        "            self.bias.data.uniform_(-stdv, stdv)\n",
        "\n",
        "    def forward(self, h):\n",
        "        #print(\"weight\", self.weight)\n",
        "\n",
        "        if self.dropout:\n",
        "            h = self.dropout(h)\n",
        "        h = torch.mm(h, self.weight)\n",
        "        # normalization by square root of src degree\n",
        "        h = h * self.g.ndata['norm']\n",
        "        self.g.ndata['h'] = h\n",
        "        # message passing and aggregation\n",
        "        self.g.update_all(fn.copy_u('h', 'm'),\n",
        "                          fn.sum(msg='m', out='h'))\n",
        "        h = self.g.ndata.pop('h')\n",
        "        # normalization by square root of dst degree\n",
        "        h = h * self.g.ndata['norm']\n",
        "        # bias\n",
        "        if self.bias is not None:\n",
        "            h = h + self.bias\n",
        "        if self.activation:\n",
        "            h = self.activation(h)\n",
        "        return h\n",
        "\n",
        "\n",
        "class GCN(nn.Module):\n",
        "    def __init__(self, num_layers:int, g:dgl.DGLGraph, in_feats:int, hidden_feats:int,\n",
        "                 out_feats:int, activation:Callable, dropout:int, bias=True):\n",
        "        super().__init__()\n",
        "        self.layers = nn.ModuleList()\n",
        "\n",
        "        self.layers.append(GCNLayer(g, in_feats, hidden_feats, activation, dropout))\n",
        "\n",
        "        for i in range(num_layers - 2):\n",
        "            self.layers.append(GCNLayer(g, hidden_feats, hidden_feats, activation, dropout))\n",
        "\n",
        "        self.layers.append(GCNLayer(g, hidden_feats, out_feats, None, 0.))\n",
        "\n",
        "    def set_graph(self, g):\n",
        "        for l in self.layers:\n",
        "            l.g = g\n",
        "\n",
        "    def forward(self, features):\n",
        "        h = features\n",
        "        for layer in self.layers:\n",
        "            h = layer(h)\n",
        "        return h\n"
      ],
      "metadata": {
        "id": "HJNoV6VMEdOQ"
      },
      "execution_count": 70,
      "outputs": []
    },
    {
      "cell_type": "code",
      "source": [
        "class GDEFunc(nn.Module):\n",
        "    def __init__(self, gnn:nn.Module):\n",
        "        \"\"\"General GDE function class. To be passed to an ODEBlock\"\"\"\n",
        "        super().__init__()\n",
        "        self.gnn = gnn\n",
        "        self.nfe = 0\n",
        "    \n",
        "    def set_graph(self, g:dgl.DGLGraph):\n",
        "        for layer in self.gnn:\n",
        "            layer.g = g\n",
        "            \n",
        "    def forward(self, t, x):\n",
        "        self.nfe += 1\n",
        "        x = self.gnn(x)\n",
        "        return x\n",
        "\n",
        "    \n",
        "class ControlledGDEFunc(GDEFunc):\n",
        "    def __init__(self, gnn:nn.Module):\n",
        "        \"\"\" Controlled GDE version. Input information is preserved longer via hooks to input node features X_0, \n",
        "            affecting all ODE function steps. Requires assignment of '.h0' before calling .forward\"\"\"\n",
        "        super().__init__(gnn)\n",
        "        self.nfe = 0\n",
        "            \n",
        "    def forward(self, t, x):\n",
        "        self.nfe += 1\n",
        "        x = torch.cat([x, self.h0], 1)\n",
        "        x = self.gnn(x)\n",
        "        return x"
      ],
      "metadata": {
        "id": "HLYeDmEwcrkp"
      },
      "execution_count": null,
      "outputs": []
    },
    {
      "cell_type": "code",
      "source": [
        "import torch.nn as nn\n",
        "import torchdiffeq\n",
        "\n",
        "class ODEBlock(nn.Module):\n",
        "    def __init__(self, odefunc:nn.Module, method:str='dopri5', rtol:float=1e-3, atol:float=1e-4, adjoint:bool=True):\n",
        "        \"\"\" Standard ODEBlock class. Can handle all types of ODE functions\n",
        "            :method:str = {'euler', 'rk4', 'dopri5', 'adams'}\n",
        "        \"\"\"\n",
        "        super().__init__()\n",
        "        self.odefunc = odefunc\n",
        "        self.method = method\n",
        "        self.adjoint_flag = adjoint\n",
        "        self.atol, self.rtol = atol, rtol\n",
        "\n",
        "    def forward(self, x:torch.Tensor, T:int=1):\n",
        "        self.integration_time = torch.tensor([0, T]).float()\n",
        "        self.integration_time = self.integration_time.type_as(x)\n",
        "\n",
        "        if self.adjoint_flag:\n",
        "            out = torchdiffeq.odeint_adjoint(self.odefunc, x, self.integration_time,\n",
        "                                             rtol=self.rtol, atol=self.atol, method=self.method)\n",
        "        else:\n",
        "            out = torchdiffeq.odeint(self.odefunc, x, self.integration_time,\n",
        "                                     rtol=self.rtol, atol=self.atol, method=self.method)\n",
        "            \n",
        "        return out[-1]\n",
        "    \n",
        "    def forward_batched(self, x:torch.Tensor, nn:int, indices:list, timestamps:set):\n",
        "        \"\"\" Modified forward for ODE batches with different integration times \"\"\"\n",
        "        timestamps = torch.Tensor(list(timestamps))\n",
        "        if self.adjoint_flag:\n",
        "            out = torchdiffeq.odeint_adjoint(self.odefunc, x, timestamps,\n",
        "                                             rtol=self.rtol, atol=self.atol, method=self.method)\n",
        "        else:\n",
        "            out = torchdiffeq.odeint(self.odefunc, x, timestamps,\n",
        "                                     rtol=self.rtol, atol=self.atol, method=self.method)\n",
        "\n",
        "        out = self._build_batch(out, nn, indices).reshape(x.shape)\n",
        "        return out\n",
        "    \n",
        "    def _build_batch(self, odeout, nn, indices):\n",
        "        b_out = []\n",
        "        for i in range(len(indices)):\n",
        "            b_out.append(odeout[indices[i],i*nn:(i+1)*nn])\n",
        "        return torch.cat(b_out).to(odeout.device)\n",
        "              \n",
        "        \n",
        "    def trajectory(self, x:torch.Tensor, T:int, num_points:int):\n",
        "        self.integration_time = torch.linspace(0, t_end, num_points)\n",
        "        self.integration_time = self.integration_time.type_as(x)\n",
        "        out = torchdiffeq.odeint(self.odefunc, x, self.integration_time,\n",
        "                                 rtol=self.rtol, atol=self.atol, method=self.method)\n",
        "        return out"
      ],
      "metadata": {
        "id": "uVuckq7SdBp-"
      },
      "execution_count": null,
      "outputs": []
    },
    {
      "cell_type": "code",
      "source": [
        "class PerformanceContainer(object):\n",
        "    \"\"\" Simple data class for metrics logging.\"\"\"\n",
        "    def __init__(self, data:dict):\n",
        "        self.data = data\n",
        "        \n",
        "    @staticmethod\n",
        "    def deep_update(x, y):\n",
        "        for key in y.keys():\n",
        "            x.update({key: list(x[key] + y[key])})\n",
        "        return x\n",
        "\n",
        "def accuracy(y_hat:torch.Tensor, y:torch.Tensor):\n",
        "    \"\"\" Standard percentage accuracy computation \"\"\"\n",
        "    preds = torch.max(y_hat, 1)[1]\n",
        "    return torch.mean((y == preds).float())"
      ],
      "metadata": {
        "id": "YNDR0-fJdRjW"
      },
      "execution_count": null,
      "outputs": []
    },
    {
      "cell_type": "markdown",
      "metadata": {
        "id": "MmGKp4TZsa_3"
      },
      "source": [
        "# Semi-supervised node classification "
      ]
    },
    {
      "cell_type": "markdown",
      "metadata": {
        "id": "cF0Ycx7usa_4"
      },
      "source": [
        "This notebook introduces `GDEs` as a general high-performance model for graph structured data. Notebook `01_node_classification_gde` is designed from the ground up as an introduction to GDEs and therefore contains ample comments to provide insights on some of our design choices. To be accessible to practicioners/researchers without prior experience on GNNs, we discuss some features of `dgl` as well, one of the PyTorch ecosystems for geometric deep learning.\n",
        "\n",
        "No prior experience with `Neural ODEs` is required, though we refer to the original repo [torchdiffeq](https://github.com/rtqichen/torchdiffeq) as a complete reference."
      ]
    },
    {
      "cell_type": "markdown",
      "metadata": {
        "id": "jcssw9hjsa_4"
      },
      "source": [
        "## Data preparation"
      ]
    },
    {
      "cell_type": "code",
      "execution_count": null,
      "metadata": {
        "id": "lhRdCDXysa_5"
      },
      "outputs": [],
      "source": [
        "device = 'cuda' if torch.cuda.is_available() else 'cpu'\n",
        "\n",
        "# seed for repeatability\n",
        "torch.backends.cudnn.deterministic = True\n",
        "torch.backends.cudnn.benchmark = False\n",
        "\n",
        "torch.manual_seed(0)\n",
        "np.random.seed(0)"
      ]
    },
    {
      "cell_type": "markdown",
      "source": [
        "- put new X and Y: X (num_node x num_feats (=1)) Y:(num_node x dim(=1))\n",
        "  - copy and paste X and Y from prev"
      ],
      "metadata": {
        "id": "bzeUidhd4dtK"
      }
    },
    {
      "cell_type": "code",
      "source": [
        "def deriv(t, X, a, b):\n",
        "    \"\"\"Return the derivatives dx/dt and dy/dt.\"\"\"\n",
        "    x, y = X\n",
        "    dxdt = a - (1+b)*x + x**2 * y\n",
        "    dydt = b*x - x**2 * y\n",
        "    return dxdt, dydt"
      ],
      "metadata": {
        "id": "eS3YgQW2C6FV"
      },
      "execution_count": null,
      "outputs": []
    },
    {
      "cell_type": "code",
      "source": [
        "import numpy as np\n",
        "from scipy.integrate import solve_ivp\n",
        "from matplotlib import pyplot as plt\n",
        "import random"
      ],
      "metadata": {
        "id": "VPhFESXt3nR7"
      },
      "execution_count": null,
      "outputs": []
    },
    {
      "cell_type": "code",
      "source": [
        "# Generate data\n",
        "np.random.seed(42)\n",
        "\n",
        "# time iteration\n",
        "ti, tf = 0, 341\n",
        "t_eval = np.arange(0, 341, 1).tolist()\n",
        "\n",
        "# initialize\n",
        "a = 1\n",
        "b = 2.02"
      ],
      "metadata": {
        "id": "UmM-7tSw8gSZ"
      },
      "execution_count": 71,
      "outputs": []
    },
    {
      "cell_type": "code",
      "source": [
        "# Integrate Brusselator eq for parameters a, b\n",
        "# solve_ivp: integrates a system of ODE given an initial value\n",
        "#            (ti, tf) = interval of integration\n",
        "#            (x0, y0) = initial state\n",
        "#            dense_output = whether to compute a continuous solution \n",
        "\n",
        "# Step 2: Calculate ode for each interaction\n",
        "\n",
        "ode = solve_ivp(deriv, (ti, tf), (1, 1), dense_output = True, args=(a,b), t_eval = t_eval)\n",
        "sol = ode.y\n",
        "print(len(sol[0])) # 2 by 301"
      ],
      "metadata": {
        "id": "y66YpfdjB64L",
        "colab": {
          "base_uri": "https://localhost:8080/"
        },
        "outputId": "0716205c-41ff-46ef-ec3a-4e91b72596ff"
      },
      "execution_count": 72,
      "outputs": [
        {
          "output_type": "stream",
          "name": "stdout",
          "text": [
            "341\n"
          ]
        }
      ]
    },
    {
      "cell_type": "code",
      "source": [
        "sol[0][99], sol[1][99]"
      ],
      "metadata": {
        "colab": {
          "base_uri": "https://localhost:8080/"
        },
        "id": "BXxc22oZI23q",
        "outputId": "87f4a670-6eea-495a-c492-e2b62ffcb0c3"
      },
      "execution_count": null,
      "outputs": [
        {
          "output_type": "execute_result",
          "data": {
            "text/plain": [
              "(1.125833949453845, 2.041324461093472)"
            ]
          },
          "metadata": {},
          "execution_count": 19
        }
      ]
    },
    {
      "cell_type": "code",
      "source": [
        "# Step 3: Create one graph instance \n",
        "#trajectory = [] # len is timestamp, which is in this case, 1500\n",
        "\n",
        "entire_rate = []\n",
        "entire_y = []\n",
        "n_train = 120\n",
        "n_test = 120\n",
        "n_nodes = 2\n",
        "\n",
        "u = torch.tensor([0])\n",
        "v = torch.tensor([1])\n",
        "\n",
        "# for each time stamp,\n",
        "# 100 graphs with 2 nodes, and node features are dim 1.\n",
        "g = dgl.graph((u, v), num_nodes=2)\n",
        "g.ndata[\"feat\"] = torch.tensor([sol[0][99], sol[1][99]])\n",
        "g.ndata[\"label\"] = torch.tensor([sol[0][100], sol[1][100]])\n",
        "\n",
        "'''Create Training Dataset'''\n",
        "#X = np.zeros((n_train,n_nodes))\n",
        "#Y = np.zeros((n_train, n_nodes))\n",
        "X = []\n",
        "Y = []\n",
        "\n",
        "for i in range(n_train):\n",
        "  X.append([sol[0][100+i], sol[1][100+i]])\n",
        "  Y.append([sol[0][101+i], sol[1][101+i]])\n",
        "  #X[i][0] = sol[0][100+i]\n",
        "  #X[i][1] = sol[1][100+i]\n",
        "  #Y[i][0] = sol[0][101+i]\n",
        "  #Y[i][1] = sol[1][101+i]\n",
        "print(X)\n",
        "X = torch.tensor(X).reshape(2,120)\n",
        "Y = torch.tensor(Y).reshape(2,120)\n",
        "\n",
        "'''Create Test Dataset'''\n",
        "X_test = np.zeros((n_test, n_nodes))\n",
        "Y_test = np.zeros((n_test, n_nodes))\n",
        "\n",
        "for i in range(n_test):\n",
        "  X_test[i][0] = sol[0][220+i]\n",
        "  X_test[i][1] = sol[1][220+i]\n",
        "  Y_test[i][0] = sol[0][221+i]\n",
        "  Y_test[i][1] = sol[1][221+i]\n",
        "\n",
        "X_test = torch.tensor(X_test).reshape(2,120)\n",
        "Y_test = torch.tensor(Y_test).reshape(2,120)"
      ],
      "metadata": {
        "id": "vwh-ZWAi94Gk",
        "colab": {
          "base_uri": "https://localhost:8080/"
        },
        "outputId": "bf36e535-945e-4c5f-d773-800c4e329f72"
      },
      "execution_count": 74,
      "outputs": [
        {
          "output_type": "stream",
          "name": "stdout",
          "text": [
            "[[1.2000619021273051, 1.78017017867746], [1.0694902622977331, 1.7675931502352846], [0.8925329408083751, 1.9696804657154217], [0.8281121621481157, 2.184757997211386], [0.8838701727248989, 2.2827116841887083], [1.0530407727482545, 2.153652994091879], [1.2147150212521347, 1.8440996621765857], [1.1272822527143946, 1.7398419453728489], [0.9300866676475056, 1.9093559995607168], [0.8313753411550174, 2.139383174479922], [0.8592557521289952, 2.2759550682488654], [1.0030315990926262, 2.2105286411288443], [1.1925952341672534, 1.9179914764866068], [1.1669022059930598, 1.7392237024178894], [0.9751757889414279, 1.8584573346640738], [0.8513964360768427, 2.0788063364821947], [0.8461301250614239, 2.245202871000888], [0.9539289295075851, 2.2470149784747515], [1.1458027940231434, 2.006008814269246], [1.1989249686574581, 1.7592876822685275], [1.0353422202107876, 1.7951265123983247], [0.8638656908689609, 2.0255121338392934], [0.8287905333358341, 2.224689656774836], [0.912916146607587, 2.279478056414259], [1.103227675326039, 2.0867887154392477], [1.2203824645427528, 1.787647472598316], [1.0768872971327599, 1.7677770653969564], [0.8912198224522676, 1.9751217870317812], [0.8302092582310224, 2.185828348963692], [0.8876638946082829, 2.279029988899045], [1.0562161634267664, 2.1462760707183604], [1.2094001772803062, 1.8460728570517542], [1.1190491449574382, 1.7516776617185246], [0.9331442194668826, 1.9151421126502166], [0.8406642677440305, 2.1308905263062923], [0.865806569125164, 2.262254474265889], [1.00086883871507, 2.203242523867186], [1.1806491634499054, 1.9260125270861022], [1.16920677629098, 1.7422118576734433], [0.9841416893607313, 1.8460206558887748], [0.8453218879422927, 2.082713111745571], [0.8419824572491681, 2.252809100154715], [0.9539927876630018, 2.2526950710664595], [1.1523512340253415, 2.002352054254523], [1.197664733011655, 1.7575060599113512], [1.0279196566983142, 1.8065539650888973], [0.8551267954190307, 2.0487774809118875], [0.8328416098966851, 2.2375459291359037], [0.9279958158172046, 2.2718431697378643], [1.1240521466597753, 2.0539834717930727], [1.2125144551166454, 1.7741460092602979], [1.0568590382287264, 1.7838923919339065], [0.8729538988257088, 2.0105043668475653], [0.8306189359330349, 2.211457916928814], [0.9060240055753659, 2.2773839738631065], [1.0882307659849881, 2.104357109801928], [1.214987591226355, 1.807387092493435], [1.0892531778505838, 1.7636143825468529], [0.9083103577109436, 1.9525594962338049], [0.8360681707242396, 2.1627815684792675], [0.8805648532589481, 2.269676413394005], [1.0327102186442625, 2.1700064139619406], [1.1982145846800139, 1.8766937853032144], [1.1538901666423957, 1.7302098882190389], [0.9641904022879026, 1.8561652006787495], [0.8320977817751115, 2.1032642213888955], [0.8376812191476429, 2.273226408330601], [0.9627838186873815, 2.258453297970229], [1.1745134078554869, 1.9771114339675118], [1.2086544333505929, 1.7262678701771461], [1.0181672604671996, 1.7961255975779762], [0.8351083491926203, 2.064212407003096], [0.8181889951042974, 2.265467319138951], [0.9265099810651344, 2.295373568714347], [1.1468004976199353, 2.0429816149531397], [1.242377343714143, 1.7283269281602802], [1.0570726544196185, 1.7487995816107267], [0.853985406017373, 2.0093114205968807], [0.809584739082084, 2.2336358589470695], [0.8911699789700949, 2.3121830170667823], [1.0962596417123138, 2.122303655520589], [1.2459554975130835, 1.7799746930099332], [1.100633471759391, 1.7322597937189164], [0.9005315454577658, 1.9388359264444448], [0.819183883676426, 2.171410736629497], [0.8629130187160944, 2.296592084997828], [1.0284274612891346, 2.195228842382012], [1.2214574796559523, 1.868313796878544], [1.1536696290852264, 1.7233711868172195], [0.9451890383644068, 1.8839724851150061], [0.8352350870823955, 2.1144447018530044], [0.8479018712136465, 2.2702070275661974], [0.9771970078922876, 2.2390662623118462], [1.1807148807030965, 1.9541350624216796], [1.188101300043256, 1.736422359961423], [1.0250524115620707, 1.7811302027791416], [0.852126591936246, 2.0256730998705623], [0.8153934758242359, 2.2398353779166382], [0.9025144861031298, 2.304151233304616], [1.1104155585440432, 2.0967004864710543], [1.242265568374648, 1.7653996268876293], [1.08302333395599, 1.746802754637025], [0.8823171084590963, 1.971392258648559], [0.8181601835078962, 2.1963728776428346], [0.8780084860718262, 2.2984204463799585], [1.057256079383911, 2.160262008052376], [1.2267931877658909, 1.8335069295169675], [1.1280621532324542, 1.7321901113777516], [0.9286467220481203, 1.9076658541611318], [0.831267065190189, 2.1357895509459563], [0.8568040638312088, 2.2761955756535635], [0.9982976169684173, 2.2172957211200592], [1.1936875205857937, 1.9204677070441174], [1.1708736766378438, 1.7361878058333384], [0.9771983768641609, 1.8523430726146817], [0.8449111491623903, 2.086049871709385], [0.8435412970247446, 2.253283856930228], [0.9574884932678774, 2.2488004341500583], [1.1535127910666416, 1.9990645354852037], [1.1966283378406086, 1.7566885736372124]]\n"
          ]
        }
      ]
    },
    {
      "cell_type": "code",
      "source": [
        "X.shape, Y.shape, X_test.shape, Y_test.shape # 120, 1"
      ],
      "metadata": {
        "colab": {
          "base_uri": "https://localhost:8080/"
        },
        "id": "Ho4V4fSgCgDl",
        "outputId": "d261ba9c-3746-4d55-be5d-ebb25a6a96dc"
      },
      "execution_count": 68,
      "outputs": [
        {
          "output_type": "execute_result",
          "data": {
            "text/plain": [
              "(torch.Size([120, 2]),\n",
              " torch.Size([120, 2]),\n",
              " torch.Size([80, 2]),\n",
              " torch.Size([80, 2]))"
            ]
          },
          "metadata": {},
          "execution_count": 68
        }
      ]
    },
    {
      "cell_type": "code",
      "execution_count": 78,
      "metadata": {
        "id": "mDcitanNsa_8"
      },
      "outputs": [],
      "source": [
        "# compute diagonal of normalization matrix D according to standard formula\n",
        "degs = g.in_degrees().float()\n",
        "norm = torch.pow(degs, -0.5)\n",
        "norm[torch.isinf(norm)] = 0\n",
        "# add to dgl.Graph in order for the norm to be accessible at training time\n",
        "g.ndata['norm'] = norm.unsqueeze(1).to(device)"
      ]
    },
    {
      "cell_type": "code",
      "source": [
        "g.ndata"
      ],
      "metadata": {
        "colab": {
          "base_uri": "https://localhost:8080/"
        },
        "id": "Ec_ndvowMseQ",
        "outputId": "5e85f0aa-ec1b-41e9-a63f-082c6aeadf19"
      },
      "execution_count": 79,
      "outputs": [
        {
          "output_type": "execute_result",
          "data": {
            "text/plain": [
              "{'feat': tensor([1.1258, 2.0413], dtype=torch.float64), 'label': tensor([1.2001, 1.7802], dtype=torch.float64), 'norm': tensor([[0.],\n",
              "        [1.]])}"
            ]
          },
          "metadata": {},
          "execution_count": 79
        }
      ]
    },
    {
      "cell_type": "markdown",
      "metadata": {
        "id": "4UVH--RXsa_8"
      },
      "source": [
        "# Graph Neural Differential Equations (GDEs)"
      ]
    },
    {
      "cell_type": "markdown",
      "metadata": {
        "id": "8ow7tdAgsa_8"
      },
      "source": [
        "As Neural ODEs, GDEs require specification of an ODE function (`ODEFunc`), representing the set of layers that will be called repeatedly by the ODE solver, as well as an ODE block (`ODEBlock`), tasked with calling the ODE solver on the ODE function. The ODEFunc is passed to the ODEBlock at initialization.\n",
        "\n",
        "We introduce the convolutional variant of GDEs, `GCDEs`. The only difference resides in the type of GNN layer utilized in the ODEFunc.\n",
        "\n",
        "For adaptive step GDEs (dopri5) we increase the hidden dimension to 64 to reduce the stiffness of the ODE and therefore the number of ODEFunc evaluations (`NFE`: Number Function Evaluation)"
      ]
    },
    {
      "cell_type": "code",
      "execution_count": 89,
      "metadata": {
        "id": "GD1XFF_ssa_9"
      },
      "outputs": [],
      "source": [
        "# for GCDEs, the ODEFunc is specified by two GCN layers. Softplus is used as activation. Smoother activations\n",
        "# have been observed to help avoid numerical instability and reduce stiffness of the ODE described\n",
        "# by a repeated call to the ODEFunc. High dropout improves performance on transductive node classification\n",
        "# tasks due to their small training sets. GDEs can take advantage of this property due to their 'deeper'\n",
        "# computational graph. NOTE: too much dropout increases stiffness and therefore NFEs\n",
        "num_feats=120\n",
        "\n",
        "#64\n",
        "gnn = nn.Sequential(GCNLayer(g=g, in_feats=1, out_feats=1, activation=nn.Softplus(), dropout=0.9),\n",
        "                  GCNLayer(g=g, in_feats=1, out_feats=1, activation=None, dropout=0.9)\n",
        "                 ).to(device)\n",
        "\n",
        "gdefunc = GDEFunc(gnn)\n",
        "\n",
        "# dopri5 is an adaptive step solver and will call `gdefunc` several times to ensure correctness up to pre-specified \n",
        "# tolerance levels. rk4 will call the func 4 times. As suggested in the original Neural ODE paper and as observed during internal tests, lower tolerances \n",
        "# are sufficient for classification tasks. \n",
        "gde = ODEBlock(odefunc=gdefunc, method='rk4', atol=1e-3, rtol=1e-4, adjoint=False).to(device)\n",
        "\n",
        "\n",
        "m = nn.Sequential(GCNLayer(g=g, in_feats=num_feats, out_feats=1, activation=F.relu, dropout=0.4),\n",
        "                  gde,\n",
        "                  GCNLayer(g=g, in_feats=1, out_feats=num_feats, activation=None, dropout=0.)\n",
        "                  ).to(device)"
      ]
    },
    {
      "cell_type": "markdown",
      "metadata": {
        "id": "pJ0W0ewysa_9"
      },
      "source": [
        "### Training loop\n",
        "\n",
        "We use standard hyperparameters for GCNs, namely `1e-2` learning rate and `5e-4` weight decay. For a fair comparison, GDE-dpr5 should be evaluated against deeper GCN models (GCNs with 4+ layers). This is because datasets such as Cora penalize deeper models due to small training sets and thus need for very strong regularizers. GDE-rk4, whose ODEFunc is evaluated only 4 times, should be compared with shallower GCN models."
      ]
    },
    {
      "cell_type": "code",
      "execution_count": 90,
      "metadata": {
        "colab": {
          "base_uri": "https://localhost:8080/"
        },
        "id": "waZDLIbVsa_9",
        "outputId": "4985fe18-13d3-4e76-a6d2-c14e544f35fd"
      },
      "outputs": [
        {
          "output_type": "stream",
          "name": "stdout",
          "text": [
            "[150], Train Loss: 2.158, Test Loss: 2.159, NFE: 4\n",
            "[300], Train Loss: 1.795, Test Loss: 1.797, NFE: 4\n",
            "[450], Train Loss: 1.487, Test Loss: 1.489, NFE: 4\n",
            "[600], Train Loss: 1.227, Test Loss: 1.229, NFE: 4\n",
            "[750], Train Loss: 1.008, Test Loss: 1.011, NFE: 4\n",
            "[900], Train Loss: 0.825, Test Loss: 0.828, NFE: 4\n",
            "[1050], Train Loss: 0.673, Test Loss: 0.676, NFE: 4\n",
            "[1200], Train Loss: 0.546, Test Loss: 0.550, NFE: 4\n",
            "[1350], Train Loss: 0.441, Test Loss: 0.445, NFE: 4\n",
            "[1500], Train Loss: 0.355, Test Loss: 0.359, NFE: 4\n",
            "[1650], Train Loss: 0.284, Test Loss: 0.288, NFE: 4\n",
            "[1800], Train Loss: 0.227, Test Loss: 0.231, NFE: 4\n",
            "[1950], Train Loss: 0.180, Test Loss: 0.184, NFE: 4\n",
            "[2100], Train Loss: 0.143, Test Loss: 0.147, NFE: 4\n",
            "[2250], Train Loss: 0.113, Test Loss: 0.118, NFE: 4\n",
            "[2400], Train Loss: 0.091, Test Loss: 0.095, NFE: 4\n",
            "[2550], Train Loss: 0.073, Test Loss: 0.078, NFE: 4\n",
            "[2700], Train Loss: 0.060, Test Loss: 0.065, NFE: 4\n",
            "[2850], Train Loss: 0.051, Test Loss: 0.056, NFE: 4\n",
            "[3000], Train Loss: 0.044, Test Loss: 0.049, NFE: 4\n",
            "[3150], Train Loss: 0.039, Test Loss: 0.044, NFE: 4\n",
            "[3300], Train Loss: 0.035, Test Loss: 0.041, NFE: 4\n",
            "[3450], Train Loss: 0.033, Test Loss: 0.039, NFE: 4\n",
            "[3600], Train Loss: 0.031, Test Loss: 0.037, NFE: 4\n",
            "[3750], Train Loss: 0.030, Test Loss: 0.036, NFE: 4\n",
            "[3900], Train Loss: 0.030, Test Loss: 0.036, NFE: 4\n"
          ]
        }
      ],
      "source": [
        "opt = torch.optim.Adam(m.parameters(), lr=1e-3, weight_decay=5e-4)\n",
        "criterion = torch.nn.MSELoss()\n",
        "logger = PerformanceContainer(data={'train_loss':[], 'train_accuracy':[],\n",
        "                                   'test_loss':[], 'test_accuracy':[],\n",
        "                                   'forward_time':[], 'backward_time':[],\n",
        "                                   'nfe': []})\n",
        "steps = 4000\n",
        "verbose_step = 150\n",
        "num_grad_steps = 0\n",
        "\n",
        "for i in range(steps): # looping over epochs\n",
        "    m.train()\n",
        "    start_time = time.time()\n",
        "\n",
        "    m.double()\n",
        "    outputs = m(X)\n",
        "    f_time = time.time() - start_time\n",
        "\n",
        "    nfe = m._modules['1'].odefunc.nfe\n",
        "\n",
        "    y_pred = outputs\n",
        "\n",
        "    loss = criterion(y_pred, Y)\n",
        "    opt.zero_grad()\n",
        "    \n",
        "    start_time = time.time()\n",
        "    loss.backward()\n",
        "    b_time = time.time() - start_time\n",
        "    \n",
        "    opt.step()\n",
        "    num_grad_steps += 1\n",
        "\n",
        "    with torch.no_grad():\n",
        "        m.eval()\n",
        "\n",
        "        # calculating outputs again with zeroed dropout\n",
        "        y_pred_test = m(X_test)\n",
        "        m._modules['1'].odefunc.nfe = 0\n",
        "\n",
        "        train_loss = loss.item()\n",
        "        #train_acc = accuracy(y_pred, Y[train_mask]).item()\n",
        "        #test_acc = accuracy(y_pred[test_mask], Y[test_mask]).item()\n",
        "        test_loss = criterion(y_pred_test, Y_test).item()\n",
        "        logger.deep_update(logger.data, dict(train_loss=[train_loss],\n",
        "                           test_loss=[test_loss], nfe=[nfe], forward_time=[f_time],\n",
        "                           backward_time=[b_time]))\n",
        "\n",
        "    if num_grad_steps % verbose_step == 0:\n",
        "        print('[{}], Train Loss: {:3.3f}, Test Loss: {:3.3f}, NFE: {}'.format(num_grad_steps, train_loss, test_loss, nfe))"
      ]
    },
    {
      "cell_type": "code",
      "execution_count": 91,
      "metadata": {
        "colab": {
          "base_uri": "https://localhost:8080/",
          "height": 676
        },
        "id": "WNPbtCuNsa_-",
        "outputId": "2d38942d-4be7-4e5c-81a8-7501959af815"
      },
      "outputs": [
        {
          "output_type": "display_data",
          "data": {
            "text/plain": [
              "<Figure size 1600x800 with 4 Axes>"
            ],
            "image/png": "[encoded data removed]"
          },
          "metadata": {}
        }
      ],
      "source": [
        "plt.figure(figsize=(16,8))\n",
        "plt.subplot(2,2,1)\n",
        "plt.plot(logger.data['train_loss'])\n",
        "plt.plot(logger.data['test_loss'])\n",
        "plt.legend(['Train loss', 'Test loss'])\n",
        "plt.subplot(2,2,2)\n",
        "plt.plot(logger.data['train_accuracy'])\n",
        "plt.plot(logger.data['test_accuracy'])\n",
        "plt.legend(['Train accuracy', 'Test accuracy'])\n",
        "plt.subplot(2,2,3)\n",
        "plt.plot(logger.data['forward_time'])\n",
        "plt.plot(logger.data['backward_time'])\n",
        "plt.legend(['Forward time', 'Backward time'])\n",
        "plt.subplot(2,2,4)\n",
        "plt.plot(logger.data['nfe'], marker='o', linewidth=0.1, markersize=1)\n",
        "plt.legend(['NFE']);"
      ]
    },
    {
      "cell_type": "markdown",
      "metadata": {
        "id": "_CpeCpLYsa__"
      },
      "source": [
        "## GCN"
      ]
    },
    {
      "cell_type": "markdown",
      "metadata": {
        "id": "LCvQBt2Isa__"
      },
      "source": [
        "We are interested in observing the training behavior of regular GCNs of different layer depths. Below is a training loop\n",
        "that will collect metrics for GCNs of layers `1, 3, 5, 7`"
      ]
    },
    {
      "cell_type": "code",
      "execution_count": null,
      "metadata": {
        "id": "Zi478B8ksa__"
      },
      "outputs": [],
      "source": [
        "loggers = []\n",
        "\n",
        "for n_layers in range(2, 9, 2):\n",
        "    \n",
        "    gcn = GCN(num_layers=n_layers, g=g, in_feats=120, hidden_feats=64, out_feats=7, activation=F.relu, dropout=0.9).to(device)\n",
        "    opt = torch.optim.Adam(gcn.parameters(), lr=1e-3, weight_decay=5e-4)\n",
        "    criterion = torch.nn.CrossEntropyLoss()\n",
        "    num_grad_steps = 3000\n",
        "    \n",
        "    gcn_logger = PerformanceContainer(data={'train_loss':[], 'train_accuracy':[],\n",
        "                                    'test_loss':[], 'test_accuracy':[],\n",
        "                                    'forward_time':[], 'backward_time':[]}\n",
        "                                      )\n",
        "    \n",
        "    for i in range(num_grad_steps): # looping over epochs  \n",
        "        start_time = time.time()\n",
        "        outputs = gcn(X)\n",
        "        f_time = time.time() - start_time\n",
        "\n",
        "        y_pred = outputs\n",
        "\n",
        "        loss = criterion(y_pred[train_mask], Y[train_mask])\n",
        "        opt.zero_grad()\n",
        "\n",
        "        start_time = time.time()\n",
        "        loss.backward()\n",
        "        b_time = time.time() - start_time\n",
        "    \n",
        "        opt.step()\n",
        "        num_grad_steps += 1\n",
        "\n",
        "        with torch.no_grad():\n",
        "            gcn.eval()\n",
        "            outputs = gcn(X)\n",
        "            y_pred = outputs\n",
        "            \n",
        "            train_loss = loss.item()\n",
        "            train_acc = accuracy(y_pred[train_mask], Y[train_mask]).item()\n",
        "            test_acc = accuracy(y_pred[test_mask], Y[test_mask]).item()\n",
        "            test_loss = criterion(y_pred[test_mask], Y[test_mask]).item()\n",
        "\n",
        "            gcn_logger.deep_update(gcn_logger.data, dict(train_loss=[train_loss], train_accuracy=[train_acc],\n",
        "                                   test_loss=[test_loss], test_accuracy=[test_acc], forward_time=[f_time],\n",
        "                                   backward_time=[b_time]))\n",
        "            \n",
        "    loggers.append((gcn_logger, n_layers))"
      ]
    },
    {
      "cell_type": "markdown",
      "metadata": {
        "id": "-wSe9NHUsbAA"
      },
      "source": [
        "## Comparison plots"
      ]
    },
    {
      "cell_type": "markdown",
      "metadata": {
        "id": "JQiPbTH0sbAA"
      },
      "source": [
        "GCDEs are shown to be as performing as GDEs, while being deeper and not requiring selection of number of layers. They are observed to converge faster; the high degree of noise present is due to the aggressive dropout setting, used to exploit the increased depth of GCDEs."
      ]
    },
    {
      "cell_type": "code",
      "execution_count": null,
      "metadata": {
        "id": "hEPD9nkssbAA"
      },
      "outputs": [],
      "source": [
        "mean_nfe = int(np.array(logger.data['nfe']).mean())\n",
        "layer_range = range(2, 9, 2)\n",
        "\n",
        "plt.figure(figsize=(16,8))\n",
        "plt.subplot(2,2,1)\n",
        "plt.plot(logger.data['train_loss'])\n",
        "for logger_gcn, l in loggers: plt.plot(logger_gcn.data['train_loss'])\n",
        "plt.title('Training loss')\n",
        "plt.legend([f'GCDE{mean_nfe}'] + [f'GCN{i}' for i in layer_range])\n",
        "plt.ylim(0,2)\n",
        "\n",
        "plt.subplot(2,2,2)\n",
        "plt.plot(logger.data['test_loss'])\n",
        "for logger_gcn, l in loggers: plt.plot(logger_gcn.data['test_loss'])\n",
        "plt.title('Test loss')\n",
        "plt.legend([f'GCDE{mean_nfe}'] + [f'GCN{i}' for i in layer_range])\n",
        "plt.ylim(0,3)\n",
        "\n",
        "plt.subplot(2,2,3)\n",
        "plt.plot(logger.data['train_accuracy'])\n",
        "for logger_gcn, l in loggers: plt.plot(logger_gcn.data['train_accuracy'])\n",
        "plt.title('Train accuracy')\n",
        "plt.legend([f'GCDE{mean_nfe}'] + [f'GCN{i}' for i in layer_range])\n",
        "\n",
        "plt.subplot(2,2,4)\n",
        "plt.plot(logger.data['test_accuracy'])\n",
        "for logger_gcn, l in loggers: plt.plot(logger_gcn.data['test_accuracy'])\n",
        "plt.title('Test accuracy')\n",
        "plt.legend([f'GCDE{mean_nfe}'] + [f'GCN{i}' for i in layer_range]);"
      ]
    },
    {
      "cell_type": "markdown",
      "metadata": {
        "id": "Au8qkYtVsbAA"
      },
      "source": [
        "### Time complexity"
      ]
    },
    {
      "cell_type": "markdown",
      "metadata": {
        "id": "C3V82KDNsbAB"
      },
      "source": [
        "The plots below show how forward time for GCDEs is roughly 6 times that of GCN2"
      ]
    },
    {
      "cell_type": "code",
      "execution_count": null,
      "metadata": {
        "id": "higjE5MnsbAB"
      },
      "outputs": [],
      "source": [
        "ftime = logger.data['forward_time']\n",
        "btime = logger.data['backward_time']"
      ]
    },
    {
      "cell_type": "code",
      "execution_count": null,
      "metadata": {
        "id": "jkVQG1LZsbAB"
      },
      "outputs": [],
      "source": [
        "plt.figure(figsize=(16,4))\n",
        "plt.subplot(1,2,1)\n",
        "plt.plot(ftime)\n",
        "for logger_gcn, l in loggers: plt.plot(logger_gcn.data['forward_time'])\n",
        "plt.title('Forward time (s)')\n",
        "plt.legend(['GCDE'] + [f'GCN{i}' for i in layer_range])\n",
        "plt.ylim(0, 0.006)\n",
        "\n",
        "plt.subplot(1,2,2)\n",
        "plt.plot(btime)\n",
        "for logger_gcn, l in loggers: plt.plot(logger_gcn.data['backward_time'])\n",
        "plt.title('Backward time (s)')\n",
        "plt.legend(['GCDE'] + [f'GCN{i}' for i in layer_range]);"
      ]
    },
    {
      "cell_type": "code",
      "execution_count": null,
      "metadata": {
        "id": "zMsSWMo8sbAB"
      },
      "outputs": [],
      "source": []
    }
  ],
  "metadata": {
    "kernelspec": {
      "display_name": "Python 3",
      "language": "python",
      "name": "python3"
    },
    "language_info": {
      "codemirror_mode": {
        "name": "ipython",
        "version": 3
      },
      "file_extension": ".py",
      "mimetype": "text/x-python",
      "name": "python",
      "nbconvert_exporter": "python",
      "pygments_lexer": "ipython3",
      "version": "3.7.0"
    },
    "latex_envs": {
      "LaTeX_envs_menu_present": true,
      "autoclose": false,
      "autocomplete": true,
      "bibliofile": "biblio.bib",
      "cite_by": "apalike",
      "current_citInitial": 1,
      "eqLabelWithNumbers": true,
      "eqNumInitial": 1,
      "hotkeys": {
        "equation": "Ctrl-E",
        "itemize": "Ctrl-I"
      },
      "labels_anchors": false,
      "latex_user_defs": false,
      "report_style_numbering": false,
      "user_envs_cfg": false
    },
    "colab": {
      "provenance": [],
      "include_colab_link": true
    }
  },
  "nbformat": 4,
  "nbformat_minor": 0
}