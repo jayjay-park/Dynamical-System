{
  "nbformat": 4,
  "nbformat_minor": 0,
  "metadata": {
    "colab": {
      "private_outputs": true,
      "provenance": [],
      "authorship_tag": "ABX9TyPnI5/cPQXg2Ti8fc8kqF0v",
      "include_colab_link": true
    },
    "kernelspec": {
      "name": "python3",
      "display_name": "Python 3"
    },
    "language_info": {
      "name": "python"
    }
  },
  "cells": [
    {
      "cell_type": "markdown",
      "metadata": {
        "id": "view-in-github",
        "colab_type": "text"
      },
      "source": [
        "<a href=\"https://colab.research.google.com/github/jayjay-park/Dynamical-System/blob/main/Sin_example.ipynb\" target=\"_parent\"><img src=\"https://colab.research.google.com/assets/colab-badge.svg\" alt=\"Open In Colab\"/></a>"
      ]
    },
    {
      "cell_type": "code",
      "source": [
        "!pip install torchdiffeq"
      ],
      "metadata": {
        "id": "MnCqnfNLyn4D"
      },
      "execution_count": null,
      "outputs": []
    },
    {
      "cell_type": "code",
      "execution_count": null,
      "metadata": {
        "id": "QQHsbZovxZ8f"
      },
      "outputs": [],
      "source": [
        "%matplotlib inline\n",
        "%config InlineBackend.figure_format = 'retina'\n",
        "\n",
        "import numpy as np\n",
        "import pylab as plt\n",
        "from scipy.integrate import odeint as scipy_odeint\n",
        "\n",
        "# size of training set\n",
        "size = 10000\n",
        "# time domain for the sine wave\n",
        "t = np.linspace(0, 25, size)\n",
        "# initial condition\n",
        "true_y0 = [0., 1.]\n",
        "# analytical ODE system for sine wave [x, t] -> [v, a]\n",
        "ode_func = lambda y, t: [np.cos(t), -np.sin(t)]\n",
        "# numerically integrate the analytical ODE system for sine wave\n",
        "true_y = scipy_odeint(ode_func, true_y0, t)"
      ]
    },
    {
      "cell_type": "code",
      "source": [
        "import time\n",
        "import numpy as np\n",
        "\n",
        "import torch\n",
        "import torch.nn as nn\n",
        "import torch.optim as optim\n",
        "from torchdiffeq import odeint\n",
        "\n",
        "# batch size\n",
        "ts_size = 20 # timestep size\n",
        "\n",
        "device = torch.device('cuda:' + str(0) if torch.cuda.is_available() else 'cpu')\n",
        "\n",
        "\n",
        "class ODEFunc(nn.Module):\n",
        "    \"\"\"\n",
        "    Neural Net of the ODE function\n",
        "    \"\"\"\n",
        "    def __init__(self):\n",
        "        super(ODEFunc, self).__init__()\n",
        "        self.net = nn.Sequential(nn.Linear(2, 128),\n",
        "                                 nn.Tanh(),\n",
        "                                 nn.Linear(128, 2))\n",
        "\n",
        "        for m in self.net.modules():\n",
        "            if isinstance(m, nn.Linear):\n",
        "                nn.init.normal_(m.weight, mean=0, std=0.1)\n",
        "                nn.init.constant_(m.bias, val=0)\n",
        "\n",
        "    def forward(self, t, y):\n",
        "        return self.net(y)\n",
        "\n",
        "\n",
        "def get_batch():\n",
        "    # randomly choosing 64 starting index in time index\n",
        "    s = torch.from_numpy(np.random.choice(np.arange(size - ts_size, dtype=np.int64), 64, replace=False))\n",
        "    batch_y0 = torch.Tensor(true_y[s])  # (M, D) # testing on M different states\n",
        "    batch_t = torch.Tensor(t[:ts_size])  # (T) # timestep size\n",
        "    batch_y = torch.Tensor(torch.stack([torch.Tensor(true_y[s + i]) for i in range(ts_size)], dim=0))  # (T, M, D)\n",
        "    return batch_y0, batch_t, batch_y"
      ],
      "metadata": {
        "id": "fMcd9sWGyRgC"
      },
      "execution_count": null,
      "outputs": []
    },
    {
      "cell_type": "code",
      "source": [
        "ii = 0\n",
        "\n",
        "func = ODEFunc()\n",
        "optimizer = optim.AdamW(func.parameters(), lr=1e-3)\n",
        "end = time.time()\n",
        "\n",
        "for itr in range(1, 2000 + 1):\n",
        "    optimizer.zero_grad()\n",
        "    batch_y0, batch_t, batch_y = get_batch()\n",
        "    #print(\"y0: \", batch_y0.shape) # 64 x 2\n",
        "    #print(\"t: \", batch_t.shape) # 20\n",
        "    #print(\"y: \", batch_y.shape) # 20 x 64 x 2\n",
        "\n",
        "\n",
        "    pred_y = odeint(func, batch_y0, batch_t)\n",
        "    loss = torch.mean(torch.square(pred_y - batch_y))\n",
        "    loss.backward()\n",
        "    optimizer.step()\n",
        "\n",
        "    if itr % 100 == 0:\n",
        "        with torch.no_grad():\n",
        "            test_t = np.linspace(0, 50, 2*size)\n",
        "            pred_y = odeint(func, torch.Tensor(true_y0), torch.Tensor(test_t))\n",
        "            test_true_y = scipy_odeint(ode_func, true_y0, test_t)\n",
        "            loss = torch.mean(torch.square(pred_y[:, 0] - test_true_y[:, 0]))\n",
        "            pred = pred_y.detach().numpy()\n",
        "            print(f'Iteration: {itr} | Total Loss {loss.item():.6f}')\n",
        "            ii += 1\n",
        "        plt.figure(figsize=(15, 7.5))\n",
        "        plt.title(f\"Iteration {itr}\")\n",
        "        plt.plot(test_t[:-1], test_true_y[:-1, 0], c = 'C2', alpha = 0.8, label=\"x0\")\n",
        "        plt.plot(test_t, pred_y[:, 0], c='C0', ls='--', label='Prediction')\n",
        "        plt.plot(test_t, test_true_y[:, 0], c='C1', ls='--', label='Ground Truth')\n",
        "        plt.axvspan(25, 50, color='gray', alpha=0.2, label='Outside Training')\n",
        "        plt.xlabel('t')\n",
        "        plt.ylabel('y')\n",
        "        plt.legend(loc='best')\n",
        "        plt.show()\n",
        "        plt.close(\"all\")\n",
        "\n",
        "        if loss.item() < 0.0000005:\n",
        "            print(\"final loss: \", loss.item())\n",
        "            break # early stopping if loss target is met\n",
        "\n",
        "    end = time.time()"
      ],
      "metadata": {
        "id": "eXf7sqvmy41D"
      },
      "execution_count": null,
      "outputs": []
    }
  ]
}