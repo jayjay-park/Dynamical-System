{
  "cells": [
    {
      "cell_type": "markdown",
      "metadata": {
        "id": "view-in-github",
        "colab_type": "text"
      },
      "source": [
        "<a href=\"https://colab.research.google.com/github/jayjay-park/Dynamical-System/blob/main/node_classification_gde.ipynb\" target=\"_parent\"><img src=\"https://colab.research.google.com/assets/colab-badge.svg\" alt=\"Open In Colab\"/></a>"
      ]
    },
    {
      "cell_type": "code",
      "source": [
        "# If you have installed dgl-cuXX package, please uninstall it first.\n",
        "!pip install  dgl -f https://data.dgl.ai/wheels/cu118/repo.html\n",
        "!pip install  dglgo -f https://data.dgl.ai/wheels-test/repo.html"
      ],
      "metadata": {
        "id": "lG2DU2j_txsr"
      },
      "execution_count": null,
      "outputs": []
    },
    {
      "cell_type": "code",
      "source": [
        "!pip install torchdiffeq"
      ],
      "metadata": {
        "colab": {
          "base_uri": "https://localhost:8080/"
        },
        "id": "9_rXdBUUut1X",
        "outputId": "0fe56e9f-3e26-43af-ed6f-0943639320eb"
      },
      "execution_count": null,
      "outputs": [
        {
          "output_type": "stream",
          "name": "stdout",
          "text": [
            "Looking in indexes: https://pypi.org/simple, https://us-python.pkg.dev/colab-wheels/public/simple/\n",
            "Collecting torchdiffeq\n",
            "  Downloading torchdiffeq-0.2.3-py3-none-any.whl (31 kB)\n",
            "Requirement already satisfied: torch>=1.3.0 in /usr/local/lib/python3.10/dist-packages (from torchdiffeq) (2.0.0+cu118)\n",
            "Requirement already satisfied: scipy>=1.4.0 in /usr/local/lib/python3.10/dist-packages (from torchdiffeq) (1.10.1)\n",
            "Requirement already satisfied: numpy<1.27.0,>=1.19.5 in /usr/local/lib/python3.10/dist-packages (from scipy>=1.4.0->torchdiffeq) (1.22.4)\n",
            "Requirement already satisfied: filelock in /usr/local/lib/python3.10/dist-packages (from torch>=1.3.0->torchdiffeq) (3.12.0)\n",
            "Requirement already satisfied: typing-extensions in /usr/local/lib/python3.10/dist-packages (from torch>=1.3.0->torchdiffeq) (4.5.0)\n",
            "Requirement already satisfied: sympy in /usr/local/lib/python3.10/dist-packages (from torch>=1.3.0->torchdiffeq) (1.11.1)\n",
            "Requirement already satisfied: networkx in /usr/local/lib/python3.10/dist-packages (from torch>=1.3.0->torchdiffeq) (3.1)\n",
            "Requirement already satisfied: jinja2 in /usr/local/lib/python3.10/dist-packages (from torch>=1.3.0->torchdiffeq) (3.1.2)\n",
            "Requirement already satisfied: triton==2.0.0 in /usr/local/lib/python3.10/dist-packages (from torch>=1.3.0->torchdiffeq) (2.0.0)\n",
            "Requirement already satisfied: cmake in /usr/local/lib/python3.10/dist-packages (from triton==2.0.0->torch>=1.3.0->torchdiffeq) (3.25.2)\n",
            "Requirement already satisfied: lit in /usr/local/lib/python3.10/dist-packages (from triton==2.0.0->torch>=1.3.0->torchdiffeq) (16.0.3)\n",
            "Requirement already satisfied: MarkupSafe>=2.0 in /usr/local/lib/python3.10/dist-packages (from jinja2->torch>=1.3.0->torchdiffeq) (2.1.2)\n",
            "Requirement already satisfied: mpmath>=0.19 in /usr/local/lib/python3.10/dist-packages (from sympy->torch>=1.3.0->torchdiffeq) (1.3.0)\n",
            "Installing collected packages: torchdiffeq\n",
            "Successfully installed torchdiffeq-0.2.3\n"
          ]
        }
      ]
    },
    {
      "cell_type": "code",
      "execution_count": null,
      "metadata": {
        "id": "ejjmIGcTsa_0"
      },
      "outputs": [],
      "source": [
        "import math\n",
        "import numpy as np\n",
        "import scipy.sparse as sp\n",
        "import time\n",
        "import torch\n",
        "import torch.nn as nn\n",
        "import torch.nn.functional as F\n",
        "import matplotlib.pyplot as plt\n",
        "from torch.nn.parameter import Parameter\n",
        "from torch.nn.modules.module import Module\n",
        "\n",
        "#from torchgde import GCN, GCNLayer, ODEBlock, GDEFunc, PerformanceContainer, accuracy"
      ]
    },
    {
      "cell_type": "code",
      "execution_count": null,
      "metadata": {
        "colab": {
          "base_uri": "https://localhost:8080/"
        },
        "id": "hST9rsmEsa_2",
        "outputId": "b96d87a2-a982-4a59-f679-5aedd5992521"
      },
      "outputs": [
        {
          "output_type": "stream",
          "name": "stderr",
          "text": [
            "DGL backend not selected or invalid.  Assuming PyTorch for now.\n"
          ]
        },
        {
          "output_type": "stream",
          "name": "stdout",
          "text": [
            "Setting the default backend to \"pytorch\". You can change it in the ~/.dgl/config.json file or export the DGLBACKEND environment variable.  Valid options are: pytorch, mxnet, tensorflow (all lowercase)\n"
          ]
        }
      ],
      "source": [
        "import dgl\n",
        "import dgl.data\n",
        "import networkx as nx"
      ]
    },
    {
      "cell_type": "markdown",
      "source": [
        "New..!"
      ],
      "metadata": {
        "id": "lKeWJHqYEZ42"
      }
    },
    {
      "cell_type": "code",
      "source": [
        "from typing import Callable\n",
        "import dgl.function as fn\n",
        "\n",
        "class GCNLayer(nn.Module):\n",
        "    def __init__(self, g:dgl.DGLGraph, in_feats:int, out_feats:int, activation:Callable[[torch.Tensor], torch.Tensor],\n",
        "                 dropout:int, bias:bool=True):\n",
        "        super().__init__()\n",
        "        self.g = g\n",
        "        self.weight = nn.Parameter(torch.Tensor(in_feats, out_feats))\n",
        "        if bias:\n",
        "            self.bias = nn.Parameter(torch.Tensor(out_feats))\n",
        "        else:\n",
        "            self.bias = None\n",
        "        self.activation = activation\n",
        "        if dropout:\n",
        "            self.dropout = nn.Dropout(p=dropout)\n",
        "        else:\n",
        "            self.dropout = 0.\n",
        "        self.reset_parameters()\n",
        "\n",
        "    def reset_parameters(self):\n",
        "        stdv = 1. / math.sqrt(self.weight.size(1))\n",
        "        self.weight.data.uniform_(-stdv, stdv)\n",
        "        if self.bias is not None:\n",
        "            self.bias.data.uniform_(-stdv, stdv)\n",
        "\n",
        "    def forward(self, h):\n",
        "        if self.dropout:\n",
        "            h = self.dropout(h)\n",
        "        h = torch.mm(h, self.weight)\n",
        "        # normalization by square root of src degree\n",
        "        h = h * self.g.ndata['norm']\n",
        "        self.g.ndata['h'] = h\n",
        "        self.g.update_all(fn.copy_u('h', 'm'),\n",
        "                          fn.sum(msg='m', out='h'))\n",
        "        h = self.g.ndata.pop('h')\n",
        "        # normalization by square root of dst degree\n",
        "        h = h * self.g.ndata['norm']\n",
        "        # bias\n",
        "        if self.bias is not None:\n",
        "            h = h + self.bias\n",
        "        if self.activation:\n",
        "            h = self.activation(h)\n",
        "        return h\n",
        "\n",
        "\n",
        "class GCN(nn.Module):\n",
        "    def __init__(self, num_layers:int, g:dgl.DGLGraph, in_feats:int, hidden_feats:int,\n",
        "                 out_feats:int, activation:Callable, dropout:int, bias=True):\n",
        "        super().__init__()\n",
        "        self.layers = nn.ModuleList()\n",
        "\n",
        "        self.layers.append(GCNLayer(g, in_feats, hidden_feats, activation, dropout))\n",
        "\n",
        "        for i in range(num_layers - 2):\n",
        "            self.layers.append(GCNLayer(g, hidden_feats, hidden_feats, activation, dropout))\n",
        "\n",
        "        self.layers.append(GCNLayer(g, hidden_feats, out_feats, None, 0.))\n",
        "\n",
        "    def set_graph(self, g):\n",
        "        for l in self.layers:\n",
        "            l.g = g\n",
        "\n",
        "    def forward(self, features):\n",
        "        h = features\n",
        "        for layer in self.layers:\n",
        "            h = layer(h)\n",
        "        return h\n"
      ],
      "metadata": {
        "id": "HJNoV6VMEdOQ"
      },
      "execution_count": null,
      "outputs": []
    },
    {
      "cell_type": "code",
      "source": [
        "class GDEFunc(nn.Module):\n",
        "    def __init__(self, gnn:nn.Module):\n",
        "        \"\"\"General GDE function class. To be passed to an ODEBlock\"\"\"\n",
        "        super().__init__()\n",
        "        self.gnn = gnn\n",
        "        self.nfe = 0\n",
        "    \n",
        "    def set_graph(self, g:dgl.DGLGraph):\n",
        "        for layer in self.gnn:\n",
        "            layer.g = g\n",
        "            \n",
        "    def forward(self, t, x):\n",
        "        self.nfe += 1\n",
        "        x = self.gnn(x)\n",
        "        return x\n",
        "\n",
        "    \n",
        "class ControlledGDEFunc(GDEFunc):\n",
        "    def __init__(self, gnn:nn.Module):\n",
        "        \"\"\" Controlled GDE version. Input information is preserved longer via hooks to input node features X_0, \n",
        "            affecting all ODE function steps. Requires assignment of '.h0' before calling .forward\"\"\"\n",
        "        super().__init__(gnn)\n",
        "        self.nfe = 0\n",
        "            \n",
        "    def forward(self, t, x):\n",
        "        self.nfe += 1\n",
        "        x = torch.cat([x, self.h0], 1)\n",
        "        x = self.gnn(x)\n",
        "        return x"
      ],
      "metadata": {
        "id": "HLYeDmEwcrkp"
      },
      "execution_count": null,
      "outputs": []
    },
    {
      "cell_type": "code",
      "source": [
        "import torch.nn as nn\n",
        "import torchdiffeq\n",
        "\n",
        "class ODEBlock(nn.Module):\n",
        "    def __init__(self, odefunc:nn.Module, method:str='dopri5', rtol:float=1e-3, atol:float=1e-4, adjoint:bool=True):\n",
        "        \"\"\" Standard ODEBlock class. Can handle all types of ODE functions\n",
        "            :method:str = {'euler', 'rk4', 'dopri5', 'adams'}\n",
        "        \"\"\"\n",
        "        super().__init__()\n",
        "        self.odefunc = odefunc\n",
        "        self.method = method\n",
        "        self.adjoint_flag = adjoint\n",
        "        self.atol, self.rtol = atol, rtol\n",
        "\n",
        "    def forward(self, x:torch.Tensor, T:int=1):\n",
        "        self.integration_time = torch.tensor([0, T]).float()\n",
        "        self.integration_time = self.integration_time.type_as(x)\n",
        "\n",
        "        if self.adjoint_flag:\n",
        "            out = torchdiffeq.odeint_adjoint(self.odefunc, x, self.integration_time,\n",
        "                                             rtol=self.rtol, atol=self.atol, method=self.method)\n",
        "        else:\n",
        "            out = torchdiffeq.odeint(self.odefunc, x, self.integration_time,\n",
        "                                     rtol=self.rtol, atol=self.atol, method=self.method)\n",
        "            \n",
        "        return out[-1]\n",
        "    \n",
        "    def forward_batched(self, x:torch.Tensor, nn:int, indices:list, timestamps:set):\n",
        "        \"\"\" Modified forward for ODE batches with different integration times \"\"\"\n",
        "        timestamps = torch.Tensor(list(timestamps))\n",
        "        if self.adjoint_flag:\n",
        "            out = torchdiffeq.odeint_adjoint(self.odefunc, x, timestamps,\n",
        "                                             rtol=self.rtol, atol=self.atol, method=self.method)\n",
        "        else:\n",
        "            out = torchdiffeq.odeint(self.odefunc, x, timestamps,\n",
        "                                     rtol=self.rtol, atol=self.atol, method=self.method)\n",
        "\n",
        "        out = self._build_batch(out, nn, indices).reshape(x.shape)\n",
        "        return out\n",
        "    \n",
        "    def _build_batch(self, odeout, nn, indices):\n",
        "        b_out = []\n",
        "        for i in range(len(indices)):\n",
        "            b_out.append(odeout[indices[i],i*nn:(i+1)*nn])\n",
        "        return torch.cat(b_out).to(odeout.device)\n",
        "              \n",
        "        \n",
        "    def trajectory(self, x:torch.Tensor, T:int, num_points:int):\n",
        "        self.integration_time = torch.linspace(0, t_end, num_points)\n",
        "        self.integration_time = self.integration_time.type_as(x)\n",
        "        out = torchdiffeq.odeint(self.odefunc, x, self.integration_time,\n",
        "                                 rtol=self.rtol, atol=self.atol, method=self.method)\n",
        "        return out"
      ],
      "metadata": {
        "id": "uVuckq7SdBp-"
      },
      "execution_count": null,
      "outputs": []
    },
    {
      "cell_type": "code",
      "source": [
        "class PerformanceContainer(object):\n",
        "    \"\"\" Simple data class for metrics logging.\"\"\"\n",
        "    def __init__(self, data:dict):\n",
        "        self.data = data\n",
        "        \n",
        "    @staticmethod\n",
        "    def deep_update(x, y):\n",
        "        for key in y.keys():\n",
        "            x.update({key: list(x[key] + y[key])})\n",
        "        return x\n",
        "\n",
        "def accuracy(y_hat:torch.Tensor, y:torch.Tensor):\n",
        "    \"\"\" Standard percentage accuracy computation \"\"\"\n",
        "    preds = torch.max(y_hat, 1)[1]\n",
        "    return torch.mean((y == preds).float())"
      ],
      "metadata": {
        "id": "YNDR0-fJdRjW"
      },
      "execution_count": null,
      "outputs": []
    },
    {
      "cell_type": "markdown",
      "metadata": {
        "id": "MmGKp4TZsa_3"
      },
      "source": [
        "# Semi-supervised node classification "
      ]
    },
    {
      "cell_type": "markdown",
      "metadata": {
        "id": "cF0Ycx7usa_4"
      },
      "source": [
        "This notebook introduces `GDEs` as a general high-performance model for graph structured data. Notebook `01_node_classification_gde` is designed from the ground up as an introduction to GDEs and therefore contains ample comments to provide insights on some of our design choices. To be accessible to practicioners/researchers without prior experience on GNNs, we discuss some features of `dgl` as well, one of the PyTorch ecosystems for geometric deep learning.\n",
        "\n",
        "No prior experience with `Neural ODEs` is required, though we refer to the original repo [torchdiffeq](https://github.com/rtqichen/torchdiffeq) as a complete reference."
      ]
    },
    {
      "cell_type": "markdown",
      "metadata": {
        "id": "jcssw9hjsa_4"
      },
      "source": [
        "## Data preparation"
      ]
    },
    {
      "cell_type": "code",
      "execution_count": null,
      "metadata": {
        "id": "lhRdCDXysa_5"
      },
      "outputs": [],
      "source": [
        "device = 'cuda' if torch.cuda.is_available() else 'cpu'\n",
        "\n",
        "# seed for repeatability\n",
        "torch.backends.cudnn.deterministic = True\n",
        "torch.backends.cudnn.benchmark = False\n",
        "\n",
        "torch.manual_seed(0)\n",
        "np.random.seed(0)"
      ]
    },
    {
      "cell_type": "code",
      "execution_count": null,
      "metadata": {
        "colab": {
          "base_uri": "https://localhost:8080/"
        },
        "id": "d3VO7bp5sa_5",
        "outputId": "a442a685-d96a-4db0-944e-b242cfba1314"
      },
      "outputs": [
        {
          "output_type": "stream",
          "name": "stdout",
          "text": [
            "Downloading /root/.dgl/cora_v2.zip from https://data.dgl.ai/dataset/cora_v2.zip...\n",
            "Extracting file to /root/.dgl/cora_v2_d697a464\n",
            "Finished data loading and preprocessing.\n",
            "  NumNodes: 2708\n",
            "  NumEdges: 10556\n",
            "  NumFeats: 1433\n",
            "  NumClasses: 7\n",
            "  NumTrainingSamples: 140\n",
            "  NumValidationSamples: 500\n",
            "  NumTestSamples: 1000\n",
            "Done saving data into cached files.\n"
          ]
        }
      ],
      "source": [
        "# dgl offers convenient access to GNN benchmark datasets via `dgl.data`...\n",
        "# other standard datasets (e.g. Citeseer / Pubmed) are also accessible via the dgl.data\n",
        "# API. The rest of the notebook is compatible with Cora / Citeseer / Pubmed with minimal\n",
        "# modification required.\n",
        "dataset = dgl.data.CoraGraphDataset()\n",
        "\n",
        "cora_g = dataset[0]"
      ]
    },
    {
      "cell_type": "code",
      "execution_count": null,
      "metadata": {
        "colab": {
          "base_uri": "https://localhost:8080/"
        },
        "id": "iwT3W6Iisa_6",
        "outputId": "f70e025f-8e31-43ea-efd8-6f5d195b5c99"
      },
      "outputs": [
        {
          "output_type": "execute_result",
          "data": {
            "text/plain": [
              "(7, 140, 500, 1000)"
            ]
          },
          "metadata": {},
          "execution_count": 11
        }
      ],
      "source": [
        "# Cora is a node-classification datasets with 2708 nodes\n",
        "X = torch.FloatTensor(cora_g.ndata['feat']).to(device)\n",
        "Y = torch.LongTensor(cora_g.ndata['label']).to(device)\n",
        "\n",
        "# In transductive semi-supervised node classification tasks on graphs, the model has access to all\n",
        "# node features but only a masked subset of the labels\n",
        "train_mask = torch.BoolTensor(cora_g.ndata['train_mask'])\n",
        "val_mask = torch.BoolTensor(cora_g.ndata['val_mask'])\n",
        "test_mask = torch.BoolTensor(cora_g.ndata['test_mask'])\n",
        "\n",
        "num_feats = X.shape[1]\n",
        "n_classes = dataset.num_classes\n",
        "\n",
        "\n",
        "# 140 training samples, 300 validation, 1000 test\n",
        "n_classes, train_mask.sum().item(), val_mask.sum().item(),test_mask.sum().item()"
      ]
    },
    {
      "cell_type": "code",
      "source": [
        "print(X[0, 0:20], Y[0])"
      ],
      "metadata": {
        "colab": {
          "base_uri": "https://localhost:8080/"
        },
        "id": "1vUYjhIf4Kk5",
        "outputId": "3849802f-0af6-4236-c21b-da933a773fb2"
      },
      "execution_count": null,
      "outputs": [
        {
          "output_type": "stream",
          "name": "stdout",
          "text": [
            "tensor([0.0000, 0.0000, 0.0000, 0.0000, 0.0000, 0.0000, 0.0000, 0.0000, 0.0000,\n",
            "        0.0000, 0.0000, 0.0000, 0.0000, 0.0000, 0.0000, 0.0000, 0.0000, 0.0000,\n",
            "        0.0000, 0.1111]) tensor(3)\n"
          ]
        }
      ]
    },
    {
      "cell_type": "markdown",
      "source": [
        "- put new X and Y: X (num_node x num_feats (=1)) Y:(num_node x dim(=1))\n",
        "  - copy and paste X and Y from prev"
      ],
      "metadata": {
        "id": "bzeUidhd4dtK"
      }
    },
    {
      "cell_type": "code",
      "source": [
        "def deriv(t, X, a, b):\n",
        "    \"\"\"Return the derivatives dx/dt and dy/dt.\"\"\"\n",
        "    x, y = X\n",
        "    dxdt = a - (1+b)*x + x**2 * y\n",
        "    dydt = b*x - x**2 * y\n",
        "    return dxdt, dydt"
      ],
      "metadata": {
        "id": "eS3YgQW2C6FV"
      },
      "execution_count": null,
      "outputs": []
    },
    {
      "cell_type": "code",
      "source": [
        "import numpy as np\n",
        "from scipy.integrate import solve_ivp\n",
        "from matplotlib import pyplot as plt\n",
        "import random"
      ],
      "metadata": {
        "id": "VPhFESXt3nR7"
      },
      "execution_count": null,
      "outputs": []
    },
    {
      "cell_type": "code",
      "source": [
        "# Generate data\n",
        "np.random.seed(42)\n",
        "\n",
        "# time iteration\n",
        "ti, tf = 0, 301\n",
        "t_eval = np.arange(0, 301, 1).tolist()\n",
        "\n",
        "# initialize\n",
        "a = 1\n",
        "b = 2.02"
      ],
      "metadata": {
        "id": "UmM-7tSw8gSZ"
      },
      "execution_count": null,
      "outputs": []
    },
    {
      "cell_type": "code",
      "source": [
        "# Integrate Brusselator eq for parameters a, b\n",
        "# solve_ivp: integrates a system of ODE given an initial value\n",
        "#            (ti, tf) = interval of integration\n",
        "#            (x0, y0) = initial state\n",
        "#            dense_output = whether to compute a continuous solution \n",
        "\n",
        "# Step 2: Calculate ode for each interaction\n",
        "\n",
        "ode = solve_ivp(deriv, (ti, tf), (1, 1), dense_output = True, args=(a,b), t_eval = t_eval)\n",
        "sol = ode.y\n",
        "print(len(sol[0])) # 2 by 301"
      ],
      "metadata": {
        "id": "y66YpfdjB64L",
        "colab": {
          "base_uri": "https://localhost:8080/"
        },
        "outputId": "addfadbb-47e6-4879-e81d-037c07831c8b"
      },
      "execution_count": null,
      "outputs": [
        {
          "output_type": "stream",
          "name": "stdout",
          "text": [
            "301\n"
          ]
        }
      ]
    },
    {
      "cell_type": "code",
      "source": [
        "# Step 3: Create one graph instance \n",
        "#trajectory = [] # len is timestamp, which is in this case, 1500\n",
        "\n",
        "entire_rate = []\n",
        "entire_y = []\n",
        "\n",
        "u = torch.tensor([0])\n",
        "v = torch.tensor([1])\n",
        "\n",
        "# for each time stamp,\n",
        "# 100 graphs with 2 nodes, and node features are dim 1.\n",
        "\n",
        "g = dgl.graph((u, v), num_nodes=2)\n",
        "g.ndata[\"feat\"] = torch.tensor([sol[0][0], sol[1][0]])\n",
        "g.ndata[\"label\"] = torch.tensor([sol[0][1], sol[1][1]])\n",
        "X = zeros(n_train, n_nodes)\n",
        "Y = zeros(n_train, n_nodes)\n",
        "for i in range(n_train):\n",
        "  X[i] = sol.T[t]\n",
        "  Y[i] = sol.T[t+1]\n",
        "  #trajectory.append(g)\n",
        "\n",
        "# same graph -> "
      ],
      "metadata": {
        "id": "vwh-ZWAi94Gk"
      },
      "execution_count": null,
      "outputs": []
    },
    {
      "cell_type": "code",
      "source": [
        "# Sanity check\n",
        "g = trajectory[0]\n",
        "print([sol[0][0], sol[0][1]])\n",
        "print(g)\n",
        "print(g.ndata)"
      ],
      "metadata": {
        "id": "Wxz38D7eVujx"
      },
      "execution_count": null,
      "outputs": []
    },
    {
      "cell_type": "code",
      "execution_count": null,
      "metadata": {
        "colab": {
          "base_uri": "https://localhost:8080/"
        },
        "id": "qwIbdCxusa_7",
        "outputId": "3ad41eaf-a194-49a4-ef99-772042b577ca"
      },
      "outputs": [
        {
          "output_type": "stream",
          "name": "stdout",
          "text": [
            "tensor([[0., 0., 0.,  ..., 0., 0., 0.],\n",
            "        [0., 0., 0.,  ..., 0., 0., 0.],\n",
            "        [0., 0., 0.,  ..., 0., 0., 0.],\n",
            "        ...,\n",
            "        [0., 0., 0.,  ..., 0., 0., 0.],\n",
            "        [0., 0., 0.,  ..., 0., 0., 0.],\n",
            "        [0., 0., 0.,  ..., 0., 0., 0.]])\n"
          ]
        }
      ],
      "source": [
        "# add self-edge for each node\n",
        "\n",
        "nxg = dgl.to_networkx(cora_g, node_attrs=['feat', 'label', 'train_mask', 'val_mask', 'test_mask'])\n",
        "nxg.remove_edges_from(nx.selfloop_edges(nxg))\n",
        "\n",
        "nxg.add_edges_from(zip(nxg.nodes(), nxg.nodes()))\n",
        "g = dgl.from_networkx(nxg, node_attrs=['feat', 'label', 'train_mask', 'val_mask', 'test_mask'])\n",
        "\n",
        "edges = g.edges()\n",
        "n_edges = g.number_of_edges()\n",
        "\n",
        "n_edges\n",
        "print(g.ndata['feat'])"
      ]
    },
    {
      "cell_type": "code",
      "source": [
        "# g = cora_g"
      ],
      "metadata": {
        "id": "txVPt5DZ3hJr"
      },
      "execution_count": null,
      "outputs": []
    },
    {
      "cell_type": "code",
      "source": [
        "print((g.ndata['feat'].shape))\n",
        "print(g)"
      ],
      "metadata": {
        "colab": {
          "base_uri": "https://localhost:8080/"
        },
        "id": "sae-6Pi32yz1",
        "outputId": "20f9a9c2-2c0f-4dd4-8588-047f5a5d90e2"
      },
      "execution_count": null,
      "outputs": [
        {
          "output_type": "stream",
          "name": "stdout",
          "text": [
            "torch.Size([2708, 1433])\n",
            "Graph(num_nodes=2708, num_edges=13264,\n",
            "      ndata_schemes={'feat': Scheme(shape=(1433,), dtype=torch.float32), 'label': Scheme(shape=(), dtype=torch.int64), 'train_mask': Scheme(shape=(), dtype=torch.bool), 'val_mask': Scheme(shape=(), dtype=torch.bool), 'test_mask': Scheme(shape=(), dtype=torch.bool)}\n",
            "      edata_schemes={})\n"
          ]
        }
      ]
    },
    {
      "cell_type": "code",
      "execution_count": null,
      "metadata": {
        "id": "mDcitanNsa_8"
      },
      "outputs": [],
      "source": [
        "# compute diagonal of normalization matrix D according to standard formula\n",
        "degs = g.in_degrees().float()\n",
        "norm = torch.pow(degs, -0.5)\n",
        "norm[torch.isinf(norm)] = 0\n",
        "# add to dgl.Graph in order for the norm to be accessible at training time\n",
        "g.ndata['norm'] = norm.unsqueeze(1).to(device)"
      ]
    },
    {
      "cell_type": "markdown",
      "metadata": {
        "id": "4UVH--RXsa_8"
      },
      "source": [
        "# Graph Neural Differential Equations (GDEs)"
      ]
    },
    {
      "cell_type": "markdown",
      "metadata": {
        "id": "8ow7tdAgsa_8"
      },
      "source": [
        "As Neural ODEs, GDEs require specification of an ODE function (`ODEFunc`), representing the set of layers that will be called repeatedly by the ODE solver, as well as an ODE block (`ODEBlock`), tasked with calling the ODE solver on the ODE function. The ODEFunc is passed to the ODEBlock at initialization.\n",
        "\n",
        "We introduce the convolutional variant of GDEs, `GCDEs`. The only difference resides in the type of GNN layer utilized in the ODEFunc.\n",
        "\n",
        "For adaptive step GDEs (dopri5) we increase the hidden dimension to 64 to reduce the stiffness of the ODE and therefore the number of ODEFunc evaluations (`NFE`: Number Function Evaluation)"
      ]
    },
    {
      "cell_type": "code",
      "execution_count": null,
      "metadata": {
        "id": "GD1XFF_ssa_9"
      },
      "outputs": [],
      "source": [
        "# for GCDEs, the ODEFunc is specified by two GCN layers. Softplus is used as activation. Smoother activations\n",
        "# have been observed to help avoid numerical instability and reduce stiffness of the ODE described\n",
        "# by a repeated call to the ODEFunc. High dropout improves performance on transductive node classification\n",
        "# tasks due to their small training sets. GDEs can take advantage of this property due to their 'deeper'\n",
        "# computational graph. NOTE: too much dropout increases stiffness and therefore NFEs\n",
        "gnn = nn.Sequential(GCNLayer(g=g, in_feats=64, out_feats=64, activation=nn.Softplus(), dropout=0.9),\n",
        "                  GCNLayer(g=g, in_feats=64, out_feats=64, activation=None, dropout=0.9)\n",
        "                 ).to(device)\n",
        "\n",
        "gdefunc = GDEFunc(gnn)\n",
        "\n",
        "# dopri5 is an adaptive step solver and will call `gdefunc` several times to ensure correctness up to pre-specified \n",
        "# tolerance levels. rk4 will call the func 4 times. As suggested in the original Neural ODE paper and as observed during internal tests, lower tolerances \n",
        "# are sufficient for classification tasks. \n",
        "gde = ODEBlock(odefunc=gdefunc, method='rk4', atol=1e-3, rtol=1e-4, adjoint=False).to(device)\n",
        "\n",
        "\n",
        "m = nn.Sequential(GCNLayer(g=g, in_feats=num_feats, out_feats=64, activation=F.relu, dropout=0.4),\n",
        "                  gde,\n",
        "                  GCNLayer(g=g, in_feats=64, out_feats=n_classes, activation=None, dropout=0.)\n",
        "                  ).to(device)"
      ]
    },
    {
      "cell_type": "markdown",
      "metadata": {
        "id": "pJ0W0ewysa_9"
      },
      "source": [
        "### Training loop\n",
        "\n",
        "We use standard hyperparameters for GCNs, namely `1e-2` learning rate and `5e-4` weight decay. For a fair comparison, GDE-dpr5 should be evaluated against deeper GCN models (GCNs with 4+ layers). This is because datasets such as Cora penalize deeper models due to small training sets and thus need for very strong regularizers. GDE-rk4, whose ODEFunc is evaluated only 4 times, should be compared with shallower GCN models."
      ]
    },
    {
      "cell_type": "code",
      "execution_count": null,
      "metadata": {
        "colab": {
          "base_uri": "https://localhost:8080/"
        },
        "id": "waZDLIbVsa_9",
        "outputId": "411e1dc0-4354-4ad7-f7cf-686346c6563c"
      },
      "outputs": [
        {
          "output_type": "stream",
          "name": "stderr",
          "text": [
            "/usr/local/lib/python3.10/dist-packages/dgl/backend/pytorch/tensor.py:449: UserWarning: TypedStorage is deprecated. It will be removed in the future and UntypedStorage will be the only storage class. This should only matter to you if you are using storages directly.  To access UntypedStorage directly, use tensor.untyped_storage() instead of tensor.storage()\n",
            "  assert input.numel() == input.storage().size(), (\n"
          ]
        },
        {
          "output_type": "stream",
          "name": "stdout",
          "text": [
            "[150], Loss: 1.705, Train Accuracy: 0.886, Test Accuracy: 0.722, NFE: 4\n",
            "[300], Loss: 1.312, Train Accuracy: 0.929, Test Accuracy: 0.796, NFE: 4\n",
            "[450], Loss: 0.929, Train Accuracy: 0.950, Test Accuracy: 0.808, NFE: 4\n",
            "[600], Loss: 0.644, Train Accuracy: 0.957, Test Accuracy: 0.810, NFE: 4\n",
            "[750], Loss: 0.468, Train Accuracy: 0.979, Test Accuracy: 0.803, NFE: 4\n",
            "[900], Loss: 0.441, Train Accuracy: 0.986, Test Accuracy: 0.807, NFE: 4\n",
            "[1050], Loss: 0.386, Train Accuracy: 0.993, Test Accuracy: 0.799, NFE: 4\n",
            "[1200], Loss: 0.314, Train Accuracy: 0.993, Test Accuracy: 0.806, NFE: 4\n",
            "[1350], Loss: 0.309, Train Accuracy: 0.993, Test Accuracy: 0.799, NFE: 4\n",
            "[1500], Loss: 0.270, Train Accuracy: 0.993, Test Accuracy: 0.800, NFE: 4\n",
            "[1650], Loss: 0.237, Train Accuracy: 1.000, Test Accuracy: 0.818, NFE: 4\n",
            "[1800], Loss: 0.200, Train Accuracy: 1.000, Test Accuracy: 0.801, NFE: 4\n",
            "[1950], Loss: 0.245, Train Accuracy: 0.993, Test Accuracy: 0.813, NFE: 4\n",
            "[2100], Loss: 0.241, Train Accuracy: 0.993, Test Accuracy: 0.802, NFE: 4\n",
            "[2250], Loss: 0.195, Train Accuracy: 1.000, Test Accuracy: 0.811, NFE: 4\n",
            "[2400], Loss: 0.269, Train Accuracy: 1.000, Test Accuracy: 0.812, NFE: 4\n",
            "[2550], Loss: 0.227, Train Accuracy: 1.000, Test Accuracy: 0.807, NFE: 4\n",
            "[2700], Loss: 0.177, Train Accuracy: 1.000, Test Accuracy: 0.806, NFE: 4\n",
            "[2850], Loss: 0.183, Train Accuracy: 1.000, Test Accuracy: 0.791, NFE: 4\n",
            "[3000], Loss: 0.183, Train Accuracy: 0.993, Test Accuracy: 0.795, NFE: 4\n"
          ]
        }
      ],
      "source": [
        "opt = torch.optim.Adam(m.parameters(), lr=1e-3, weight_decay=5e-4)\n",
        "criterion = torch.nn.CrossEntropyLoss()\n",
        "logger = PerformanceContainer(data={'train_loss':[], 'train_accuracy':[],\n",
        "                                   'test_loss':[], 'test_accuracy':[],\n",
        "                                   'forward_time':[], 'backward_time':[],\n",
        "                                   'nfe': []})\n",
        "steps = 3000\n",
        "verbose_step = 150\n",
        "num_grad_steps = 0\n",
        "\n",
        "for i in range(steps): # looping over epochs\n",
        "    m.train()\n",
        "    start_time = time.time()\n",
        "\n",
        "    outputs = m(X)\n",
        "    f_time = time.time() - start_time\n",
        "\n",
        "    nfe = m._modules['1'].odefunc.nfe\n",
        "\n",
        "    y_pred = outputs\n",
        "\n",
        "    loss = criterion(y_pred[train_mask], Y[train_mask])\n",
        "    opt.zero_grad()\n",
        "    \n",
        "    start_time = time.time()\n",
        "    loss.backward()\n",
        "    b_time = time.time() - start_time\n",
        "    \n",
        "    opt.step()\n",
        "    num_grad_steps += 1\n",
        "\n",
        "    with torch.no_grad():\n",
        "        m.eval()\n",
        "\n",
        "        # calculating outputs again with zeroed dropout\n",
        "        y_pred = m(X)\n",
        "        m._modules['1'].odefunc.nfe = 0\n",
        "\n",
        "        train_loss = loss.item()\n",
        "        train_acc = accuracy(y_pred[train_mask], Y[train_mask]).item()\n",
        "        test_acc = accuracy(y_pred[test_mask], Y[test_mask]).item()\n",
        "        test_loss = criterion(y_pred[test_mask], Y[test_mask]).item()\n",
        "        logger.deep_update(logger.data, dict(train_loss=[train_loss], train_accuracy=[train_acc],\n",
        "                           test_loss=[test_loss], test_accuracy=[test_acc], nfe=[nfe], forward_time=[f_time],\n",
        "                           backward_time=[b_time]))\n",
        "\n",
        "    if num_grad_steps % verbose_step == 0:\n",
        "        print('[{}], Loss: {:3.3f}, Train Accuracy: {:3.3f}, Test Accuracy: {:3.3f}, NFE: {}'.format(num_grad_steps,\n",
        "                                                                                                    train_loss,\n",
        "                                                                                                    train_acc,\n",
        "                                                                                                    test_acc,\n",
        "                                                                                                    nfe))"
      ]
    },
    {
      "cell_type": "code",
      "execution_count": null,
      "metadata": {
        "colab": {
          "base_uri": "https://localhost:8080/",
          "height": 676
        },
        "id": "WNPbtCuNsa_-",
        "outputId": "e5244eea-fe6b-456c-fb47-2152aa0745a0"
      },
      "outputs": [
        {
          "output_type": "display_data",
          "data": {
            "text/plain": [
              "<Figure size 1600x800 with 4 Axes>"
            ],
            "image/png": "[encoded data removed]"
          },
          "metadata": {}
        }
      ],
      "source": [
        "plt.figure(figsize=(16,8))\n",
        "plt.subplot(2,2,1)\n",
        "plt.plot(logger.data['train_loss'])\n",
        "plt.plot(logger.data['test_loss'])\n",
        "plt.legend(['Train loss', 'Test loss'])\n",
        "plt.subplot(2,2,2)\n",
        "plt.plot(logger.data['train_accuracy'])\n",
        "plt.plot(logger.data['test_accuracy'])\n",
        "plt.legend(['Train accuracy', 'Test accuracy'])\n",
        "plt.subplot(2,2,3)\n",
        "plt.plot(logger.data['forward_time'])\n",
        "plt.plot(logger.data['backward_time'])\n",
        "plt.legend(['Forward time', 'Backward time'])\n",
        "plt.subplot(2,2,4)\n",
        "plt.plot(logger.data['nfe'], marker='o', linewidth=0.1, markersize=1)\n",
        "plt.legend(['NFE']);"
      ]
    },
    {
      "cell_type": "markdown",
      "metadata": {
        "id": "_CpeCpLYsa__"
      },
      "source": [
        "## GCN"
      ]
    },
    {
      "cell_type": "markdown",
      "metadata": {
        "id": "LCvQBt2Isa__"
      },
      "source": [
        "We are interested in observing the training behavior of regular GCNs of different layer depths. Below is a training loop\n",
        "that will collect metrics for GCNs of layers `1, 3, 5, 7`"
      ]
    },
    {
      "cell_type": "code",
      "execution_count": null,
      "metadata": {
        "id": "Zi478B8ksa__"
      },
      "outputs": [],
      "source": [
        "loggers = []\n",
        "\n",
        "for n_layers in range(2, 9, 2):\n",
        "    \n",
        "    gcn = GCN(num_layers=n_layers, g=g, in_feats=1433, hidden_feats=64, out_feats=7, activation=F.relu, dropout=0.9).to(device)\n",
        "    opt = torch.optim.Adam(gcn.parameters(), lr=1e-3, weight_decay=5e-4)\n",
        "    criterion = torch.nn.CrossEntropyLoss()\n",
        "    num_grad_steps = 3000\n",
        "    \n",
        "    gcn_logger = PerformanceContainer(data={'train_loss':[], 'train_accuracy':[],\n",
        "                                    'test_loss':[], 'test_accuracy':[],\n",
        "                                    'forward_time':[], 'backward_time':[]}\n",
        "                                      )\n",
        "    \n",
        "    for i in range(num_grad_steps): # looping over epochs  \n",
        "        start_time = time.time()\n",
        "        outputs = gcn(X)\n",
        "        f_time = time.time() - start_time\n",
        "\n",
        "        y_pred = outputs\n",
        "\n",
        "        loss = criterion(y_pred[train_mask], Y[train_mask])\n",
        "        opt.zero_grad()\n",
        "\n",
        "        start_time = time.time()\n",
        "        loss.backward()\n",
        "        b_time = time.time() - start_time\n",
        "    \n",
        "        opt.step()\n",
        "        num_grad_steps += 1\n",
        "\n",
        "        with torch.no_grad():\n",
        "            gcn.eval()\n",
        "            outputs = gcn(X)\n",
        "            y_pred = outputs\n",
        "            \n",
        "            train_loss = loss.item()\n",
        "            train_acc = accuracy(y_pred[train_mask], Y[train_mask]).item()\n",
        "            test_acc = accuracy(y_pred[test_mask], Y[test_mask]).item()\n",
        "            test_loss = criterion(y_pred[test_mask], Y[test_mask]).item()\n",
        "\n",
        "            gcn_logger.deep_update(gcn_logger.data, dict(train_loss=[train_loss], train_accuracy=[train_acc],\n",
        "                                   test_loss=[test_loss], test_accuracy=[test_acc], forward_time=[f_time],\n",
        "                                   backward_time=[b_time]))\n",
        "            \n",
        "    loggers.append((gcn_logger, n_layers))"
      ]
    },
    {
      "cell_type": "markdown",
      "metadata": {
        "id": "-wSe9NHUsbAA"
      },
      "source": [
        "## Comparison plots"
      ]
    },
    {
      "cell_type": "markdown",
      "metadata": {
        "id": "JQiPbTH0sbAA"
      },
      "source": [
        "GCDEs are shown to be as performing as GDEs, while being deeper and not requiring selection of number of layers. They are observed to converge faster; the high degree of noise present is due to the aggressive dropout setting, used to exploit the increased depth of GCDEs."
      ]
    },
    {
      "cell_type": "code",
      "execution_count": null,
      "metadata": {
        "id": "hEPD9nkssbAA"
      },
      "outputs": [],
      "source": [
        "mean_nfe = int(np.array(logger.data['nfe']).mean())\n",
        "layer_range = range(2, 9, 2)\n",
        "\n",
        "plt.figure(figsize=(16,8))\n",
        "plt.subplot(2,2,1)\n",
        "plt.plot(logger.data['train_loss'])\n",
        "for logger_gcn, l in loggers: plt.plot(logger_gcn.data['train_loss'])\n",
        "plt.title('Training loss')\n",
        "plt.legend([f'GCDE{mean_nfe}'] + [f'GCN{i}' for i in layer_range])\n",
        "plt.ylim(0,2)\n",
        "\n",
        "plt.subplot(2,2,2)\n",
        "plt.plot(logger.data['test_loss'])\n",
        "for logger_gcn, l in loggers: plt.plot(logger_gcn.data['test_loss'])\n",
        "plt.title('Test loss')\n",
        "plt.legend([f'GCDE{mean_nfe}'] + [f'GCN{i}' for i in layer_range])\n",
        "plt.ylim(0,3)\n",
        "\n",
        "plt.subplot(2,2,3)\n",
        "plt.plot(logger.data['train_accuracy'])\n",
        "for logger_gcn, l in loggers: plt.plot(logger_gcn.data['train_accuracy'])\n",
        "plt.title('Train accuracy')\n",
        "plt.legend([f'GCDE{mean_nfe}'] + [f'GCN{i}' for i in layer_range])\n",
        "\n",
        "plt.subplot(2,2,4)\n",
        "plt.plot(logger.data['test_accuracy'])\n",
        "for logger_gcn, l in loggers: plt.plot(logger_gcn.data['test_accuracy'])\n",
        "plt.title('Test accuracy')\n",
        "plt.legend([f'GCDE{mean_nfe}'] + [f'GCN{i}' for i in layer_range]);"
      ]
    },
    {
      "cell_type": "markdown",
      "metadata": {
        "id": "Au8qkYtVsbAA"
      },
      "source": [
        "### Time complexity"
      ]
    },
    {
      "cell_type": "markdown",
      "metadata": {
        "id": "C3V82KDNsbAB"
      },
      "source": [
        "The plots below show how forward time for GCDEs is roughly 6 times that of GCN2"
      ]
    },
    {
      "cell_type": "code",
      "execution_count": null,
      "metadata": {
        "id": "higjE5MnsbAB"
      },
      "outputs": [],
      "source": [
        "ftime = logger.data['forward_time']\n",
        "btime = logger.data['backward_time']"
      ]
    },
    {
      "cell_type": "code",
      "execution_count": null,
      "metadata": {
        "id": "jkVQG1LZsbAB"
      },
      "outputs": [],
      "source": [
        "plt.figure(figsize=(16,4))\n",
        "plt.subplot(1,2,1)\n",
        "plt.plot(ftime)\n",
        "for logger_gcn, l in loggers: plt.plot(logger_gcn.data['forward_time'])\n",
        "plt.title('Forward time (s)')\n",
        "plt.legend(['GCDE'] + [f'GCN{i}' for i in layer_range])\n",
        "plt.ylim(0, 0.006)\n",
        "\n",
        "plt.subplot(1,2,2)\n",
        "plt.plot(btime)\n",
        "for logger_gcn, l in loggers: plt.plot(logger_gcn.data['backward_time'])\n",
        "plt.title('Backward time (s)')\n",
        "plt.legend(['GCDE'] + [f'GCN{i}' for i in layer_range]);"
      ]
    },
    {
      "cell_type": "code",
      "execution_count": null,
      "metadata": {
        "id": "zMsSWMo8sbAB"
      },
      "outputs": [],
      "source": []
    }
  ],
  "metadata": {
    "kernelspec": {
      "display_name": "Python 3",
      "language": "python",
      "name": "python3"
    },
    "language_info": {
      "codemirror_mode": {
        "name": "ipython",
        "version": 3
      },
      "file_extension": ".py",
      "mimetype": "text/x-python",
      "name": "python",
      "nbconvert_exporter": "python",
      "pygments_lexer": "ipython3",
      "version": "3.7.0"
    },
    "latex_envs": {
      "LaTeX_envs_menu_present": true,
      "autoclose": false,
      "autocomplete": true,
      "bibliofile": "biblio.bib",
      "cite_by": "apalike",
      "current_citInitial": 1,
      "eqLabelWithNumbers": true,
      "eqNumInitial": 1,
      "hotkeys": {
        "equation": "Ctrl-E",
        "itemize": "Ctrl-I"
      },
      "labels_anchors": false,
      "latex_user_defs": false,
      "report_style_numbering": false,
      "user_envs_cfg": false
    },
    "colab": {
      "provenance": [],
      "include_colab_link": true
    }
  },
  "nbformat": 4,
  "nbformat_minor": 0
}